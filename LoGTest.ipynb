{
 "cells": [
  {
   "cell_type": "code",
   "execution_count": 1,
   "metadata": {},
   "outputs": [],
   "source": [
    "import numpy as np\n",
    "import uproot\n",
    "import matplotlib.pyplot as plt\n",
    "import matplotlib as mpl\n",
    "from scipy import integrate\n",
    "import AnaUtils as au\n",
    "import Triggered as tr\n",
    "import glob\n",
    "import os\n",
    "import scipy as sp\n",
    "import awkward as awk\n",
    "from pylab import rcParams\n",
    "rcParams['figure.figsize'] = 15, 11"
   ]
  },
  {
   "cell_type": "code",
   "execution_count": 2,
   "metadata": {
    "scrolled": true
   },
   "outputs": [
    {
     "name": "stdout",
     "output_type": "stream",
     "text": [
      "{'numEvents': 100000, 'numSamples': 4000, 'chMap': array([1, 0, 1]), 'numChan': 2, 'file': 'testdata/test3'}\n"
     ]
    },
    {
     "ename": "MemoryError",
     "evalue": "Unable to allocate 5.97 GiB for an array with shape (801200000,) and data type float64",
     "output_type": "error",
     "traceback": [
      "\u001b[0;31m---------------------------------------------------------------------------\u001b[0m",
      "\u001b[0;31mMemoryError\u001b[0m                               Traceback (most recent call last)",
      "\u001b[0;32m<ipython-input-2-0f444569c030>\u001b[0m in \u001b[0;36m<module>\u001b[0;34m\u001b[0m\n\u001b[1;32m      1\u001b[0m \u001b[0mwinS\u001b[0m \u001b[0;34m=\u001b[0m \u001b[0;36m5\u001b[0m\u001b[0;34m\u001b[0m\u001b[0;34m\u001b[0m\u001b[0m\n\u001b[1;32m      2\u001b[0m \u001b[0mwinF\u001b[0m \u001b[0;34m=\u001b[0m \u001b[0;36m6\u001b[0m\u001b[0;34m\u001b[0m\u001b[0;34m\u001b[0m\u001b[0m\n\u001b[0;32m----> 3\u001b[0;31m \u001b[0mQDict\u001b[0m\u001b[0;34m,\u001b[0m\u001b[0mwaveInfo\u001b[0m \u001b[0;34m=\u001b[0m \u001b[0mtr\u001b[0m\u001b[0;34m.\u001b[0m\u001b[0mextRun\u001b[0m\u001b[0;34m(\u001b[0m\u001b[0;34m\"testdata/test3\"\u001b[0m\u001b[0;34m,\u001b[0m\u001b[0;36m30\u001b[0m\u001b[0;34m,\u001b[0m\u001b[0mwinS\u001b[0m\u001b[0;34m,\u001b[0m\u001b[0mwinF\u001b[0m\u001b[0;34m,\u001b[0m\u001b[0mqW\u001b[0m\u001b[0;34m=\u001b[0m\u001b[0;36m0.05\u001b[0m\u001b[0;34m,\u001b[0m\u001b[0mret\u001b[0m\u001b[0;34m=\u001b[0m\u001b[0;32mTrue\u001b[0m\u001b[0;34m)\u001b[0m\u001b[0;34m\u001b[0m\u001b[0;34m\u001b[0m\u001b[0m\n\u001b[0m\u001b[1;32m      4\u001b[0m \u001b[0mQDict\u001b[0m\u001b[0;34m,\u001b[0m\u001b[0mwaveInfo\u001b[0m\u001b[0;34m\u001b[0m\u001b[0;34m\u001b[0m\u001b[0m\n",
      "\u001b[0;32m/data/share/DDC10Ana/Triggered.py\u001b[0m in \u001b[0;36mextRun\u001b[0;34m(fname, nbase, winS, winF, cut, pmt, trigM, qbins, qW, ret, plot)\u001b[0m\n\u001b[1;32m      6\u001b[0m \u001b[0;34m\u001b[0m\u001b[0m\n\u001b[1;32m      7\u001b[0m \u001b[0;32mdef\u001b[0m \u001b[0mextRun\u001b[0m\u001b[0;34m(\u001b[0m\u001b[0mfname\u001b[0m\u001b[0;34m,\u001b[0m\u001b[0mnbase\u001b[0m\u001b[0;34m,\u001b[0m\u001b[0mwinS\u001b[0m\u001b[0;34m,\u001b[0m\u001b[0mwinF\u001b[0m\u001b[0;34m,\u001b[0m\u001b[0mcut\u001b[0m\u001b[0;34m=\u001b[0m\u001b[0;36m4\u001b[0m\u001b[0;34m,\u001b[0m\u001b[0mpmt\u001b[0m\u001b[0;34m=\u001b[0m\u001b[0;36m1\u001b[0m\u001b[0;34m,\u001b[0m\u001b[0mtrigM\u001b[0m\u001b[0;34m=\u001b[0m\u001b[0;36m100\u001b[0m\u001b[0;34m,\u001b[0m\u001b[0mqbins\u001b[0m\u001b[0;34m=\u001b[0m\u001b[0;36m1000\u001b[0m\u001b[0;34m,\u001b[0m\u001b[0mqW\u001b[0m \u001b[0;34m=\u001b[0m \u001b[0;36m0\u001b[0m\u001b[0;34m,\u001b[0m\u001b[0mret\u001b[0m\u001b[0;34m=\u001b[0m\u001b[0;32mFalse\u001b[0m\u001b[0;34m,\u001b[0m\u001b[0mplot\u001b[0m\u001b[0;34m=\u001b[0m\u001b[0;32mFalse\u001b[0m\u001b[0;34m)\u001b[0m\u001b[0;34m:\u001b[0m\u001b[0;34m\u001b[0m\u001b[0;34m\u001b[0m\u001b[0m\n\u001b[0;32m----> 8\u001b[0;31m     \u001b[0mwaves\u001b[0m \u001b[0;34m=\u001b[0m \u001b[0mau\u001b[0m\u001b[0;34m.\u001b[0m\u001b[0mReadDDC10_BinWave\u001b[0m\u001b[0;34m(\u001b[0m\u001b[0mfname\u001b[0m\u001b[0;34m)\u001b[0m\u001b[0;34m\u001b[0m\u001b[0;34m\u001b[0m\u001b[0m\n\u001b[0m\u001b[1;32m      9\u001b[0m     \u001b[0mwaves\u001b[0m\u001b[0;34m[\u001b[0m\u001b[0;36m0\u001b[0m\u001b[0;34m]\u001b[0m\u001b[0;34m,\u001b[0m\u001b[0mbase\u001b[0m \u001b[0;34m=\u001b[0m \u001b[0mau\u001b[0m\u001b[0;34m.\u001b[0m\u001b[0mSubtract_Baseline\u001b[0m\u001b[0;34m(\u001b[0m\u001b[0mwaves\u001b[0m\u001b[0;34m[\u001b[0m\u001b[0;36m0\u001b[0m\u001b[0;34m]\u001b[0m\u001b[0;34m,\u001b[0m\u001b[0mnBase\u001b[0m\u001b[0;34m=\u001b[0m\u001b[0mnbase\u001b[0m\u001b[0;34m)\u001b[0m\u001b[0;34m\u001b[0m\u001b[0;34m\u001b[0m\u001b[0m\n\u001b[1;32m     10\u001b[0m     \u001b[0;31m#require baseline has no pulse. i.e. integral over baseline less than cut*rms\u001b[0m\u001b[0;34m\u001b[0m\u001b[0;34m\u001b[0m\u001b[0;34m\u001b[0m\u001b[0m\n",
      "\u001b[0;32m/data/share/DDC10Ana/AnaUtils.py\u001b[0m in \u001b[0;36mReadDDC10_BinWave\u001b[0;34m(fName, doTime)\u001b[0m\n\u001b[1;32m     36\u001b[0m             \u001b[0;32mreturn\u001b[0m \u001b[0;32mNone\u001b[0m\u001b[0;34m\u001b[0m\u001b[0;34m\u001b[0m\u001b[0m\n\u001b[1;32m     37\u001b[0m \u001b[0;34m\u001b[0m\u001b[0m\n\u001b[0;32m---> 38\u001b[0;31m     \u001b[0mwaveArr\u001b[0m \u001b[0;34m=\u001b[0m \u001b[0mnp\u001b[0m\u001b[0;34m.\u001b[0m\u001b[0mreshape\u001b[0m\u001b[0;34m(\u001b[0m\u001b[0mwaveArr\u001b[0m\u001b[0;34m.\u001b[0m\u001b[0mastype\u001b[0m\u001b[0;34m(\u001b[0m\u001b[0mdtype\u001b[0m\u001b[0;34m=\u001b[0m\u001b[0mnp\u001b[0m\u001b[0;34m.\u001b[0m\u001b[0mfloat64\u001b[0m\u001b[0;34m)\u001b[0m\u001b[0;34m/\u001b[0m\u001b[0madccperVolt\u001b[0m\u001b[0;34m,\u001b[0m\u001b[0;34m(\u001b[0m\u001b[0mwaveInfo\u001b[0m\u001b[0;34m[\u001b[0m\u001b[0;34m'numEvents'\u001b[0m\u001b[0;34m]\u001b[0m\u001b[0;34m,\u001b[0m\u001b[0mwaveInfo\u001b[0m\u001b[0;34m[\u001b[0m\u001b[0;34m'numChan'\u001b[0m\u001b[0;34m]\u001b[0m\u001b[0;34m,\u001b[0m\u001b[0;34m(\u001b[0m\u001b[0mwaveInfo\u001b[0m\u001b[0;34m[\u001b[0m\u001b[0;34m'numSamples'\u001b[0m\u001b[0;34m]\u001b[0m\u001b[0;34m+\u001b[0m\u001b[0;36m6\u001b[0m\u001b[0;34m)\u001b[0m\u001b[0;34m)\u001b[0m\u001b[0;34m)\u001b[0m\u001b[0;34m[\u001b[0m\u001b[0;34m...\u001b[0m\u001b[0;34m,\u001b[0m\u001b[0;36m2\u001b[0m\u001b[0;34m:\u001b[0m\u001b[0;34m-\u001b[0m\u001b[0;36m4\u001b[0m\u001b[0;34m]\u001b[0m\u001b[0;34m\u001b[0m\u001b[0;34m\u001b[0m\u001b[0m\n\u001b[0m\u001b[1;32m     39\u001b[0m \u001b[0;34m\u001b[0m\u001b[0m\n\u001b[1;32m     40\u001b[0m     \u001b[0;32mif\u001b[0m \u001b[0mdoTime\u001b[0m\u001b[0;34m:\u001b[0m\u001b[0;34m\u001b[0m\u001b[0;34m\u001b[0m\u001b[0m\n",
      "\u001b[0;31mMemoryError\u001b[0m: Unable to allocate 5.97 GiB for an array with shape (801200000,) and data type float64"
     ]
    }
   ],
   "source": [
    "winS = 5\n",
    "winF = 6\n",
    "QDict,waveInfo = tr.extRun(\"testdata/test3\",30,winS,winF,qW=0.05,ret=True)\n",
    "QDict,waveInfo"
   ]
  },
  {
   "cell_type": "code",
   "execution_count": null,
   "metadata": {},
   "outputs": [],
   "source": [
    "def plotQ(qhist,xbase = 1.0):\n",
    "    plt.clf()\n",
    "    \n",
    "    ax = plt.errorbar(qhist[1],qhist[0],marker='+',yerr=np.sqrt(qhist[2]))\n",
    "    plt.gca().xaxis.set_major_locator(mpl.ticker.MultipleLocator(xbase))\n",
    "    plt.xlabel('Q [pC]')\n",
    "    plt.ylabel('dRate/dQ [Hz/pC]')\n",
    "    #plt.savefig(sdir+\"/dQHist.png\")\n",
    "    plt.show()\n",
    "plotQ(QDict['qHist'],1)"
   ]
  },
  {
   "cell_type": "code",
   "execution_count": null,
   "metadata": {},
   "outputs": [],
   "source": [
    "from scipy import signal\n",
    "\n",
    "ksigma = 3.5\n",
    "scale = 5\n",
    "ksize = ksigma*scale\n",
    "Lkernel = au.LoGkernel(ksigma,scale=scale)\n",
    "LoGL = signal.fftconvolve(QDict['waves'],Lkernel[np.newaxis,...],mode='full',axes=1)[:,int(ksize/2):-int(ksize/2)]"
   ]
  },
  {
   "cell_type": "code",
   "execution_count": null,
   "metadata": {},
   "outputs": [],
   "source": [
    "for i in range(100):\n",
    "    if int(LoGL[i].max())<0.5:\n",
    "        x=np.arange(waveInfo['numSamples'])-np.argmax(QDict['waves'][i])\n",
    "        p=plt.plot(x,QDict['waves'][i],marker='+',label=i,linestyle='dashed')\n",
    "        plt.plot(x,LoGL[i],marker='x',label='{}LoG'.format(i),color=p[-1].get_color())\n",
    "        #plt.plot(x,LoGL[i]*scale,marker='x',label='{}LoGR'.format(i))\n",
    "plt.xlabel('samples (10ns)')\n",
    "plt.ylabel('V')\n",
    "plt.gca().xaxis.set_major_locator(mpl.ticker.MultipleLocator(2))\n",
    "plt.gca().yaxis.set_major_locator(mpl.ticker.MultipleLocator(2e-3))\n",
    "plt.grid()\n",
    "plt.xlim((-20,20))\n",
    "#plt.legend()\n",
    "plt.show()\n",
    "#input('Cont...')"
   ]
  },
  {
   "cell_type": "code",
   "execution_count": null,
   "metadata": {},
   "outputs": [],
   "source": [
    "def zero_crossing(mLoG,mWave,thresh,window=3):\n",
    "    maxL,minL,gradL = au.mmg_rolling(mLoG,window)\n",
    "    #print(grad2L,gradL)\n",
    "    pzero = (mLoG[...,1:-1]>0)\n",
    "    zeroCross = np.zeros(shape=mLoG.shape).astype(np.int)\n",
    "    zeroCross[...,1:-1] = pzero*(minL<0) + (1-pzero)*(maxL>0)\n",
    "    diffL = maxL-minL\n",
    "    zeroCross[...,1:-1] = zeroCross[...,1:-1]*(diffL > thresh)\n",
    "    zeroCross[...,1:-1] = ((gradL>thresh/window).astype(np.int)-(gradL<-thresh/window).astype(np.int))*zeroCross[...,1:-1]\n",
    "    cDiff = mLoG-mWave\n",
    "    cDiff *= np.abs(cDiff)>thresh\n",
    "    curveInt = np.diff(np.sign(cDiff))\n",
    "    #curveInt = zeroCross[...,:-1]*(curveInt!=0)\n",
    "    #zeroCross[...,:-1] *= (curveInt!=0)\n",
    "    #zeroCross[zeroCross==0] = np.nan\n",
    "    lEd = awk.fromiter([np.nonzero(zi)[0] for zi in zeroCross<0])\n",
    "    rEd = awk.fromiter([np.nonzero(zi)[0] for zi in zeroCross>0])\n",
    "    return (lEd,rEd),np.pad(gradL,[(0,)]*(gradL.ndim-1)+[(1,)],'constant',constant_values=(0)),awk.fromiter([np.nonzero(ci)[0] for ci in curveInt])\n",
    "    \n",
    "#Find intersection points, intersections corresponding to zero crossings are used as edge candidates\n",
    "th = 0.3\n",
    "zeroCross,zeroGrad,curveInt = zero_crossing(LoGL,QDict['waves'],th*1e-3)\n",
    "zeroCross,zeroGrad,curveInt"
   ]
  },
  {
   "cell_type": "code",
   "execution_count": null,
   "metadata": {
    "scrolled": true
   },
   "outputs": [],
   "source": [
    "nwa=500\n",
    "cols=np.empty(nwa,dtype=object)\n",
    "ncross = (zeroCross[0].counts,zeroCross[1].counts)\n",
    "for i in range(nwa):\n",
    "    qmax = QDict['waves'][i].max()\n",
    "    if QDict['qData'][i]>0.25:\n",
    "        x=np.arange(waveInfo['numSamples'])-np.argmax(QDict['waves'][i])\n",
    "        p=plt.plot(x,LoGL[i],marker='x',linestyle='dashed',label='i{}_l{}_r{}_q{}'.format(i,ncross[0][i],ncross[1][i],QDict['qData'][i]))\n",
    "        cols[i]=p[-1].get_color()\n",
    "        plt.plot(x,QDict['waves'][i],marker='+',color=cols[i])\n",
    "        plt.plot(curveInt[i]-np.argmax(QDict['waves'][i]),QDict['waves'][i][curveInt[i]],linestyle='None',marker='o',color='red')\n",
    "        #plt.vlines(np.nonzero(zeroCross[0][i])[0]-np.argmax(testEv2[i]),-testEv2[i].max(),testEv2[i].max())\n",
    "        plt.vlines(zeroCross[0][i]-np.argmax(QDict['waves'][i]),-qmax,qmax,linestyles='dashed')\n",
    "        plt.vlines(zeroCross[1][i]-np.argmax(QDict['waves'][i]),-qmax,qmax,linestyles='dotted')\n",
    "        plt.gca().xaxis.set_major_locator(mpl.ticker.MultipleLocator(2))\n",
    "        plt.gca().yaxis.set_major_locator(mpl.ticker.MultipleLocator(np.max(QDict['waves'][i])/10))\n",
    "        plt.grid()\n",
    "        plt.xlim((-20,20))\n",
    "        plt.legend()\n",
    "        plt.show()"
   ]
  },
  {
   "cell_type": "code",
   "execution_count": null,
   "metadata": {
    "scrolled": true
   },
   "outputs": [],
   "source": [
    "bigcross = (np.nonzero(ncross[0]>2)[0],np.nonzero(ncross[1]>2)[0])\n",
    "bigcross"
   ]
  },
  {
   "cell_type": "code",
   "execution_count": null,
   "metadata": {},
   "outputs": [],
   "source": [
    "ev = 731\n",
    "tL = zeroCross[0][ev]\n",
    "tR = zeroCross[1][ev]\n",
    "tL,tR"
   ]
  },
  {
   "cell_type": "code",
   "execution_count": null,
   "metadata": {},
   "outputs": [],
   "source": [
    "import itertools\n",
    "a= []\n",
    "a = list(itertools.chain.from_iterable([[(tLi,tRi) for tRi in tR[np.nonzero(tR>tLi)[0]]] for tLi in tL]))\n",
    "#b = [(ai[0],ai[1][n]) for ai,n in itertools.product(a,len(ai))]\n",
    "a"
   ]
  },
  {
   "cell_type": "code",
   "execution_count": null,
   "metadata": {},
   "outputs": [],
   "source": [
    "tL[1:]-tL[:-1]==1"
   ]
  },
  {
   "cell_type": "code",
   "execution_count": null,
   "metadata": {},
   "outputs": [],
   "source": [
    "ppairs = [(tL[i],tR[i]) for i in ]"
   ]
  },
  {
   "cell_type": "code",
   "execution_count": null,
   "metadata": {},
   "outputs": [],
   "source": [
    "def pair_edges(tL,tR,wave):\n",
    "    ppairs = list(itertools.chain.from_iterable([[(tLi,tRi) for tRi in tR[np.nonzero(tR>tLi)[0]]] for tLi in tL]))\n",
    "    pair_ints = [integrate.simps(wave[ppi[0]:ppi[1]]) for ppi in ppairs]\n",
    "    \n",
    "    "
   ]
  }
 ],
 "metadata": {
  "kernelspec": {
   "display_name": "Python 3",
   "language": "python",
   "name": "python3"
  },
  "language_info": {
   "codemirror_mode": {
    "name": "ipython",
    "version": 3
   },
   "file_extension": ".py",
   "mimetype": "text/x-python",
   "name": "python",
   "nbconvert_exporter": "python",
   "pygments_lexer": "ipython3",
   "version": "3.6.9"
  }
 },
 "nbformat": 4,
 "nbformat_minor": 4
}
