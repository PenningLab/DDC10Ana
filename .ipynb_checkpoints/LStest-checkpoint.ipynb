{
 "cells": [
  {
   "cell_type": "code",
   "execution_count": 1,
   "metadata": {},
   "outputs": [],
   "source": [
    "import numpy as np\n",
    "import uproot\n",
    "import matplotlib.pyplot as plt\n",
    "import matplotlib as mpl\n",
    "from scipy import integrate\n",
    "import AnaUtils as au\n",
    "import Triggered as tr\n",
    "import glob\n",
    "import os\n",
    "import scipy as sp\n",
    "import awkward as awk\n",
    "from pylab import rcParams\n",
    "rcParams['figure.figsize'] = 15, 11\n",
    "from datetime import datetime as dt"
   ]
  },
  {
   "cell_type": "code",
   "execution_count": 2,
   "metadata": {
    "scrolled": true
   },
   "outputs": [
    {
     "data": {
      "text/plain": [
       "['/data/share/KA0206/1500V_BarrelGdLS_10mV10ns_200818_2000_samples_100000_events',\n",
       " '/data/share/KA0206/1500V_BarrelGdLS_Co60_10mV10ns_200819_2000_samples_100000_events']"
      ]
     },
     "execution_count": 2,
     "metadata": {},
     "output_type": "execute_result"
    }
   ],
   "source": [
    "wdir = '/data/share/KA0206/1500V*'\n",
    "fdirs = glob.glob(wdir)\n",
    "#fdirT = (np.array(fdirT)-fdirT[0]\n",
    "fdirs"
   ]
  },
  {
   "cell_type": "code",
   "execution_count": 4,
   "metadata": {},
   "outputs": [],
   "source": [
    "def LSRun(fname,nbase=150,cut=4,pmt=0,qbins=1000,ret=False):\n",
    "    waves = au.ReadDDC10_BinWave(fname)\n",
    "    waves[0],base = au.Subtract_Baseline(waves[0],nBase=nbase)\n",
    "    #require baseline has no pulse. i.e. integral over baseline less than cut*rms\n",
    "    bmask = np.absolute(integrate.simps(waves[0][:,pmt,:nbase]))<cut*integrate.simps(np.ones(nbase))*base[1][:,pmt]\n",
    "    PromptPeak = au.peakHist(waves,chan=pmt,ret=True,doplot=False)\n",
    "    #Qev = 1e3*integrate.simps(waves[0][:,pmt])*au.sampleWidth_ns/au.resistance_ohm\n",
    "    Qhist = au.winQHist(waves,ch=pmt,hrange=[0,2500],init=PromptPeak[1]-10,end=PromptPeak[1]+10,nBins=qbins,evMask=bmask[...,np.newaxis])\n",
    "    if ret:\n",
    "        Qhist['waves'] = waves[0][:,pmt]\n",
    "        Qhist['evMask'] = bmask\n",
    "        Qhist['baserms'] = base[0][:,pmt]\n",
    "        return Qhist,waves[1]\n",
    "    else:\n",
    "        return Qhist['qHist']\n",
    "    \n",
    "def plotQ(qhist,sdir='',savef=False):\n",
    "    plt.errorbar(qhist[1],qhist[0],marker='+',yerr=np.sqrt(qhist[2]))\n",
    "    plt.xlabel('Q [pC]')\n",
    "    plt.ylabel('dRate/dQ [Hz/pC]')\n",
    "    if savef:\n",
    "        plt.savefig(sdir+\"/QHist.png\")\n",
    "    plt.show()\n",
    "from scipy.optimize import curve_fit\n",
    "\n",
    "def fitQ(Qhist,P,bounds=(-np.inf,np.inf),doErr=False):\n",
    "    def gauss(x, x0, y0, sigma):\n",
    "        p = [x0, y0, sigma]\n",
    "        return p[1]* np.exp(-((x-p[0])/p[2])**2)\n",
    "    def gauss2(x,x0,y0,s0,x1,y1,s1):\n",
    "        p0 = gauss(x,x0,y0,s0)\n",
    "        p1 = gauss(x,x1,y1,s1)\n",
    "        return p0+p1\n",
    "    def gauss3(x,x0,y0,s0,x1,y1,s1,x2,y2,s2):\n",
    "        p0 = gauss(x,x0,y0,s0)\n",
    "        p1 = gauss(x,x1,y1,s1)\n",
    "        g2 = 2*x1 - x0 +x2\n",
    "        p2 = gauss(x,g2,y2,s2)\n",
    "        return p0+p1+p2\n",
    "    ng = len(P)/3\n",
    "    mx = Qhist[1]\n",
    "    my = Qhist[0]\n",
    "    merr = None\n",
    "    abSig = None\n",
    "    if doErr:\n",
    "        args = Qhist[3]\n",
    "        mx = mx[args]\n",
    "        my = my[args]\n",
    "        merr = np.sqrt(Qhist[2][args])\n",
    "        abSig = True\n",
    "    if ng==3:\n",
    "        fit,tmp = curve_fit(gauss3,mx,my,p0=P,bounds=bounds,sigma=merr,absolute_sigma=abSig,maxfev=50000,ftol=1e-7,gtol=1e-7)\n",
    "    elif ng==2:\n",
    "        fit,tmp = curve_fit(gauss2,mx,my,p0=P,bounds=bounds,sigma=merr,absolute_sigma=abSig,maxfev=50000,ftol=1e-7,gtol=1e-7)\n",
    "    elif ng==1:\n",
    "        fit,tmp = curve_fit(gauss,mx,my,p0=P,bounds=bounds,sigma=merr,absolute_sigma=abSig,maxfev=50000,ftol=1e-7,gtol=1e-7)\n",
    "    else:\n",
    "        print('No valid fit function found')\n",
    "        return None\n",
    "    return fit,tmp"
   ]
  },
  {
   "cell_type": "code",
   "execution_count": 5,
   "metadata": {},
   "outputs": [],
   "source": [
    "def fullAna(fdir,nbase=30,winS=5,winF=5,cut=4,pmt=0,qbins=1000,ret=False,nEV=0):\n",
    "    fnames = [os.path.splitext(iF)[0] for iF in glob.glob(fdir+'/*.bin')]\n",
    "    avN = len(fnames)\n",
    "    if nEV>0 and nEV<avN:\n",
    "        avN = nEV\n",
    "    Qhist = list(LSRun(fnames[0],nbase,cut,pmt,qbins,ret))\n",
    "    for iQ in range(1,avN):\n",
    "        Qhisti = LSRun(fnames[iQ],nbase,cut,pmt,qbins,ret)\n",
    "        Qhist[0] += Qhisti[0]\n",
    "        Qhist[2] += Qhisti[2]\n",
    "        plotQ(Qhisti)\n",
    "    Qhist[0] *= 1/float(avN)\n",
    "    Qhist[2] *= 1/float(avN*avN)\n",
    "    plotQ(Qhist,fdir,savef=True)\n",
    "    \"\"\"\n",
    "    popt,pcov = fitQ(Qhist,[0,10,1,3,1,1])\n",
    "    QNoise = min([popt[0],popt[3]])\n",
    "    QSPE = max([popt[0],popt[3]])\n",
    "    Qbin0 = np.argmax(Qhist[1]>QNoise)\n",
    "    Qbin1 = np.argmax(Qhist[1]>QSPE)\n",
    "    print(popt)\n",
    "    Qvalley = np.argmax(Qhist[1]>(QSPE/5))\n",
    "    \n",
    "    Qbin0 = np.argmax(Qhist[1]>0)\n",
    "    Qbin1 = np.argmax(Qhist[1]>2)\n",
    "    Qvalley = Qbin0 + np.argmin(Qhist[0][Qbin0:Qbin1])\n",
    "    DR = np.sum(Qhist[0][Qvalley:])\n",
    "    DRErr = np.sqrt(np.sum(Qhist[2][Qvalley:]))\n",
    "    print([fdir,Qhist[1][Qvalley],DR,DRErr])\n",
    "    return DR,DRErr,Qhist\n",
    "    \"\"\""
   ]
  },
  {
   "cell_type": "code",
   "execution_count": 6,
   "metadata": {
    "scrolled": false
   },
   "outputs": [
    {
     "ename": "NameError",
     "evalue": "name 'plot' is not defined",
     "output_type": "error",
     "traceback": [
      "\u001b[0;31m---------------------------------------------------------------------------\u001b[0m",
      "\u001b[0;31mNameError\u001b[0m                                 Traceback (most recent call last)",
      "\u001b[0;32m<ipython-input-6-e2932dcbb4ce>\u001b[0m in \u001b[0;36m<module>\u001b[0;34m\u001b[0m\n\u001b[0;32m----> 1\u001b[0;31m \u001b[0mfullAna\u001b[0m\u001b[0;34m(\u001b[0m\u001b[0mfdirs\u001b[0m\u001b[0;34m[\u001b[0m\u001b[0;36m0\u001b[0m\u001b[0;34m]\u001b[0m\u001b[0;34m,\u001b[0m\u001b[0mnEV\u001b[0m\u001b[0;34m=\u001b[0m\u001b[0;36m1\u001b[0m\u001b[0;34m)\u001b[0m\u001b[0;34m\u001b[0m\u001b[0;34m\u001b[0m\u001b[0m\n\u001b[0m",
      "\u001b[0;32m<ipython-input-5-7055a4bf6d97>\u001b[0m in \u001b[0;36mfullAna\u001b[0;34m(fdir, nbase, winS, winF, cut, pmt, qbins, ret, nEV)\u001b[0m\n\u001b[1;32m      4\u001b[0m     \u001b[0;32mif\u001b[0m \u001b[0mnEV\u001b[0m\u001b[0;34m>\u001b[0m\u001b[0;36m0\u001b[0m \u001b[0;32mand\u001b[0m \u001b[0mnEV\u001b[0m\u001b[0;34m<\u001b[0m\u001b[0mavN\u001b[0m\u001b[0;34m:\u001b[0m\u001b[0;34m\u001b[0m\u001b[0;34m\u001b[0m\u001b[0m\n\u001b[1;32m      5\u001b[0m         \u001b[0mavN\u001b[0m \u001b[0;34m=\u001b[0m \u001b[0mnEV\u001b[0m\u001b[0;34m\u001b[0m\u001b[0;34m\u001b[0m\u001b[0m\n\u001b[0;32m----> 6\u001b[0;31m     \u001b[0mQhist\u001b[0m \u001b[0;34m=\u001b[0m \u001b[0mlist\u001b[0m\u001b[0;34m(\u001b[0m\u001b[0mLSRun\u001b[0m\u001b[0;34m(\u001b[0m\u001b[0mfnames\u001b[0m\u001b[0;34m[\u001b[0m\u001b[0;36m0\u001b[0m\u001b[0;34m]\u001b[0m\u001b[0;34m,\u001b[0m\u001b[0mnbase\u001b[0m\u001b[0;34m,\u001b[0m\u001b[0mcut\u001b[0m\u001b[0;34m,\u001b[0m\u001b[0mpmt\u001b[0m\u001b[0;34m,\u001b[0m\u001b[0mqbins\u001b[0m\u001b[0;34m,\u001b[0m\u001b[0mret\u001b[0m\u001b[0;34m)\u001b[0m\u001b[0;34m)\u001b[0m\u001b[0;34m\u001b[0m\u001b[0;34m\u001b[0m\u001b[0m\n\u001b[0m\u001b[1;32m      7\u001b[0m     \u001b[0;32mfor\u001b[0m \u001b[0miQ\u001b[0m \u001b[0;32min\u001b[0m \u001b[0mrange\u001b[0m\u001b[0;34m(\u001b[0m\u001b[0;36m1\u001b[0m\u001b[0;34m,\u001b[0m\u001b[0mavN\u001b[0m\u001b[0;34m)\u001b[0m\u001b[0;34m:\u001b[0m\u001b[0;34m\u001b[0m\u001b[0;34m\u001b[0m\u001b[0m\n\u001b[1;32m      8\u001b[0m         \u001b[0mQhisti\u001b[0m \u001b[0;34m=\u001b[0m \u001b[0mLSRun\u001b[0m\u001b[0;34m(\u001b[0m\u001b[0mfnames\u001b[0m\u001b[0;34m[\u001b[0m\u001b[0miQ\u001b[0m\u001b[0;34m]\u001b[0m\u001b[0;34m,\u001b[0m\u001b[0mnbase\u001b[0m\u001b[0;34m,\u001b[0m\u001b[0mcut\u001b[0m\u001b[0;34m,\u001b[0m\u001b[0mpmt\u001b[0m\u001b[0;34m,\u001b[0m\u001b[0mqbins\u001b[0m\u001b[0;34m,\u001b[0m\u001b[0mret\u001b[0m\u001b[0;34m)\u001b[0m\u001b[0;34m\u001b[0m\u001b[0;34m\u001b[0m\u001b[0m\n",
      "\u001b[0;32m<ipython-input-4-30bf1a21d5bc>\u001b[0m in \u001b[0;36mLSRun\u001b[0;34m(fname, nbase, cut, pmt, qbins, ret)\u001b[0m\n\u001b[1;32m      4\u001b[0m     \u001b[0;31m#require baseline has no pulse. i.e. integral over baseline less than cut*rms\u001b[0m\u001b[0;34m\u001b[0m\u001b[0;34m\u001b[0m\u001b[0;34m\u001b[0m\u001b[0m\n\u001b[1;32m      5\u001b[0m     \u001b[0mbmask\u001b[0m \u001b[0;34m=\u001b[0m \u001b[0mnp\u001b[0m\u001b[0;34m.\u001b[0m\u001b[0mabsolute\u001b[0m\u001b[0;34m(\u001b[0m\u001b[0mintegrate\u001b[0m\u001b[0;34m.\u001b[0m\u001b[0msimps\u001b[0m\u001b[0;34m(\u001b[0m\u001b[0mwaves\u001b[0m\u001b[0;34m[\u001b[0m\u001b[0;36m0\u001b[0m\u001b[0;34m]\u001b[0m\u001b[0;34m[\u001b[0m\u001b[0;34m:\u001b[0m\u001b[0;34m,\u001b[0m\u001b[0mpmt\u001b[0m\u001b[0;34m,\u001b[0m\u001b[0;34m:\u001b[0m\u001b[0mnbase\u001b[0m\u001b[0;34m]\u001b[0m\u001b[0;34m)\u001b[0m\u001b[0;34m)\u001b[0m\u001b[0;34m<\u001b[0m\u001b[0mcut\u001b[0m\u001b[0;34m*\u001b[0m\u001b[0mintegrate\u001b[0m\u001b[0;34m.\u001b[0m\u001b[0msimps\u001b[0m\u001b[0;34m(\u001b[0m\u001b[0mnp\u001b[0m\u001b[0;34m.\u001b[0m\u001b[0mones\u001b[0m\u001b[0;34m(\u001b[0m\u001b[0mnbase\u001b[0m\u001b[0;34m)\u001b[0m\u001b[0;34m)\u001b[0m\u001b[0;34m*\u001b[0m\u001b[0mbase\u001b[0m\u001b[0;34m[\u001b[0m\u001b[0;36m1\u001b[0m\u001b[0;34m]\u001b[0m\u001b[0;34m[\u001b[0m\u001b[0;34m:\u001b[0m\u001b[0;34m,\u001b[0m\u001b[0mpmt\u001b[0m\u001b[0;34m]\u001b[0m\u001b[0;34m\u001b[0m\u001b[0;34m\u001b[0m\u001b[0m\n\u001b[0;32m----> 6\u001b[0;31m     \u001b[0mPromptPeak\u001b[0m \u001b[0;34m=\u001b[0m \u001b[0mau\u001b[0m\u001b[0;34m.\u001b[0m\u001b[0mpeakHist\u001b[0m\u001b[0;34m(\u001b[0m\u001b[0mwaves\u001b[0m\u001b[0;34m,\u001b[0m\u001b[0mchan\u001b[0m\u001b[0;34m=\u001b[0m\u001b[0mpmt\u001b[0m\u001b[0;34m,\u001b[0m\u001b[0mret\u001b[0m\u001b[0;34m=\u001b[0m\u001b[0;32mTrue\u001b[0m\u001b[0;34m,\u001b[0m\u001b[0mdoplot\u001b[0m\u001b[0;34m=\u001b[0m\u001b[0mplot\u001b[0m\u001b[0;34m)\u001b[0m\u001b[0;34m\u001b[0m\u001b[0;34m\u001b[0m\u001b[0m\n\u001b[0m\u001b[1;32m      7\u001b[0m     \u001b[0;31m#Qev = 1e3*integrate.simps(waves[0][:,pmt])*au.sampleWidth_ns/au.resistance_ohm\u001b[0m\u001b[0;34m\u001b[0m\u001b[0;34m\u001b[0m\u001b[0;34m\u001b[0m\u001b[0m\n\u001b[1;32m      8\u001b[0m     \u001b[0mQhist\u001b[0m \u001b[0;34m=\u001b[0m \u001b[0mau\u001b[0m\u001b[0;34m.\u001b[0m\u001b[0mwinQHist\u001b[0m\u001b[0;34m(\u001b[0m\u001b[0mwaves\u001b[0m\u001b[0;34m,\u001b[0m\u001b[0mch\u001b[0m\u001b[0;34m=\u001b[0m\u001b[0mpmt\u001b[0m\u001b[0;34m,\u001b[0m\u001b[0mhrange\u001b[0m\u001b[0;34m=\u001b[0m\u001b[0;34m[\u001b[0m\u001b[0;36m0\u001b[0m\u001b[0;34m,\u001b[0m\u001b[0;36m2500\u001b[0m\u001b[0;34m]\u001b[0m\u001b[0;34m,\u001b[0m\u001b[0minit\u001b[0m\u001b[0;34m=\u001b[0m\u001b[0mPromptPeak\u001b[0m\u001b[0;34m[\u001b[0m\u001b[0;36m1\u001b[0m\u001b[0;34m]\u001b[0m\u001b[0;34m-\u001b[0m\u001b[0;36m10\u001b[0m\u001b[0;34m,\u001b[0m\u001b[0mend\u001b[0m\u001b[0;34m=\u001b[0m\u001b[0mPromptPeak\u001b[0m\u001b[0;34m[\u001b[0m\u001b[0;36m1\u001b[0m\u001b[0;34m]\u001b[0m\u001b[0;34m+\u001b[0m\u001b[0;36m10\u001b[0m\u001b[0;34m,\u001b[0m\u001b[0mnBins\u001b[0m\u001b[0;34m=\u001b[0m\u001b[0mqbins\u001b[0m\u001b[0;34m,\u001b[0m\u001b[0mevMask\u001b[0m\u001b[0;34m=\u001b[0m\u001b[0mbmask\u001b[0m\u001b[0;34m[\u001b[0m\u001b[0;34m...\u001b[0m\u001b[0;34m,\u001b[0m\u001b[0mnp\u001b[0m\u001b[0;34m.\u001b[0m\u001b[0mnewaxis\u001b[0m\u001b[0;34m]\u001b[0m\u001b[0;34m)\u001b[0m\u001b[0;34m\u001b[0m\u001b[0;34m\u001b[0m\u001b[0m\n",
      "\u001b[0;31mNameError\u001b[0m: name 'plot' is not defined"
     ]
    }
   ],
   "source": [
    "fullAna(fdirs[0],nEV=1)"
   ]
  },
  {
   "cell_type": "code",
   "execution_count": null,
   "metadata": {
    "scrolled": true
   },
   "outputs": [],
   "source": [
    "allRuns = [fullAna(iF) for iF in fdirs]"
   ]
  },
  {
   "cell_type": "code",
   "execution_count": null,
   "metadata": {},
   "outputs": [],
   "source": [
    "allDR = np.array([iRun[0] for iRun in allRuns]).flatten()\n",
    "allDRerr = np.array([iRun[1] for iRun in allRuns]).flatten()"
   ]
  },
  {
   "cell_type": "code",
   "execution_count": null,
   "metadata": {},
   "outputs": [],
   "source": [
    "plt.errorbar(fdirT,allDR,marker='+',yerr=allDRerr)\n",
    "plt.xlabel('T [days]')\n",
    "plt.ylabel('Rate [Hz]')\n",
    "plt.savefig(\"DarkRate.png\")\n",
    "plt.show()"
   ]
  },
  {
   "cell_type": "code",
   "execution_count": null,
   "metadata": {},
   "outputs": [],
   "source": []
  }
 ],
 "metadata": {
  "kernelspec": {
   "display_name": "Python 3",
   "language": "python",
   "name": "python3"
  },
  "language_info": {
   "codemirror_mode": {
    "name": "ipython",
    "version": 3
   },
   "file_extension": ".py",
   "mimetype": "text/x-python",
   "name": "python",
   "nbconvert_exporter": "python",
   "pygments_lexer": "ipython3",
   "version": "3.6.9"
  }
 },
 "nbformat": 4,
 "nbformat_minor": 4
}
