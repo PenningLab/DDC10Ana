{
 "cells": [
  {
   "cell_type": "code",
   "execution_count": 2,
   "metadata": {},
   "outputs": [],
   "source": [
    "import numpy as np\n",
    "import uproot\n",
    "import matplotlib.pyplot as plt\n",
    "from scipy import integrate\n",
    "import AnaUtils as au"
   ]
  },
  {
   "cell_type": "code",
   "execution_count": 3,
   "metadata": {},
   "outputs": [
    {
     "data": {
      "text/plain": [
       "['/data/share/KA0206_BarrelDry_DR/200306_50mVPMT',\n",
       " '/data/share/KA0206_BarrelDry_DR/200309_20mVPMT',\n",
       " '/data/share/KA0206_BarrelDry_DR/200309_10mVPMT',\n",
       " '/data/share/KA0206_BarrelDry_DR/200309_5mVPMT',\n",
       " '/data/share/KA0206_BarrelDry_DR/200309_2mVPMT',\n",
       " '/data/share/KA0206_BarrelDry_DR/200309_1mVPMT']"
      ]
     },
     "execution_count": 3,
     "metadata": {},
     "output_type": "execute_result"
    }
   ],
   "source": [
    "Trigs = ['200306_50mVPMT','200309_20mVPMT','200309_10mVPMT','200309_5mVPMT','200309_2mVPMT','200309_1mVPMT']\n",
    "wDir = '/data/share/KA0206_BarrelDry_DR/'\n",
    "fWaves = [wDir+iTrig for iTrig in Trigs]\n",
    "fWaves"
   ]
  },
  {
   "cell_type": "code",
   "execution_count": 4,
   "metadata": {},
   "outputs": [
    {
     "data": {
      "text/plain": [
       "[[array([[[-0.00158691,  0.        ,  0.        , ...,  0.        ,\n",
       "            0.        ,  0.        ]],\n",
       "  \n",
       "         [[ 0.00219727,  0.0020752 ,  0.00244141, ...,  0.00219727,\n",
       "            0.00183105,  0.0020752 ]],\n",
       "  \n",
       "         [[ 0.00231934,  0.00183105,  0.00231934, ...,  0.0020752 ,\n",
       "            0.00244141,  0.00231934]],\n",
       "  \n",
       "         ...,\n",
       "  \n",
       "         [[ 0.00219727,  0.00231934,  0.00231934, ...,  0.00231934,\n",
       "            0.00219727,  0.00231934]],\n",
       "  \n",
       "         [[ 0.00231934,  0.00219727,  0.0020752 , ...,  0.00231934,\n",
       "            0.0020752 ,  0.00195312]],\n",
       "  \n",
       "         [[ 0.00244141,  0.0020752 ,  0.00231934, ...,  0.00244141,\n",
       "            0.00244141,  0.00231934]]]),\n",
       "  {'numEvents': 100000,\n",
       "   'numSamples': 350,\n",
       "   'chMap': array([1]),\n",
       "   'numChan': 1,\n",
       "   'liveTimes_s': array([4.00833333e-06, 2.10967638e-01, 1.06520550e-02, ...,\n",
       "          1.59492615e-01, 1.50575300e-02, 2.79760202e-01]),\n",
       "   'totliveTime_s': 10508.170557828333}],\n",
       " [array([[[0.00244141, 0.00195312, 0.0020752 , ..., 0.00195312,\n",
       "           0.00256348, 0.0020752 ]],\n",
       "  \n",
       "         [[0.00231934, 0.00244141, 0.00244141, ..., 0.0020752 ,\n",
       "           0.0020752 , 0.00219727]],\n",
       "  \n",
       "         [[0.0020752 , 0.0020752 , 0.00195312, ..., 0.00231934,\n",
       "           0.00231934, 0.00219727]],\n",
       "  \n",
       "         ...,\n",
       "  \n",
       "         [[0.0020752 , 0.00219727, 0.0020752 , ..., 0.00244141,\n",
       "           0.00256348, 0.00244141]],\n",
       "  \n",
       "         [[0.00195312, 0.00231934, 0.0020752 , ..., 0.00231934,\n",
       "           0.0020752 , 0.00195312]],\n",
       "  \n",
       "         [[0.00195312, 0.00231934, 0.00231934, ..., 0.00219727,\n",
       "           0.00244141, 0.0020752 ]]]),\n",
       "  {'numEvents': 100000,\n",
       "   'numSamples': 350,\n",
       "   'chMap': array([1]),\n",
       "   'numChan': 1,\n",
       "   'liveTimes_s': array([3.80000000e-06, 3.61520333e-03, 3.29587133e-02, ...,\n",
       "          9.14121833e-03, 1.60766967e-02, 2.56992183e-02]),\n",
       "   'totliveTime_s': 2864.0432867199997}],\n",
       " [array([[[0.00219727, 0.00219727, 0.00219727, ..., 0.00231934,\n",
       "           0.00256348, 0.0020752 ]],\n",
       "  \n",
       "         [[0.00231934, 0.00219727, 0.00256348, ..., 0.00219727,\n",
       "           0.00219727, 0.00219727]],\n",
       "  \n",
       "         [[0.00195312, 0.00195312, 0.0020752 , ..., 0.00219727,\n",
       "           0.00195312, 0.0020752 ]],\n",
       "  \n",
       "         ...,\n",
       "  \n",
       "         [[0.0020752 , 0.00195312, 0.00195312, ..., 0.00231934,\n",
       "           0.00219727, 0.00219727]],\n",
       "  \n",
       "         [[0.00170898, 0.00256348, 0.00231934, ..., 0.00500488,\n",
       "           0.00317383, 0.00280762]],\n",
       "  \n",
       "         [[0.00231934, 0.00256348, 0.0020752 , ..., 0.00195312,\n",
       "           0.00219727, 0.00244141]]]),\n",
       "  {'numEvents': 100000,\n",
       "   'numSamples': 350,\n",
       "   'chMap': array([1]),\n",
       "   'numChan': 1,\n",
       "   'liveTimes_s': array([1.40833333e-06, 6.45043133e-02, 9.32427167e-03, ...,\n",
       "          2.47785967e-02, 4.90500500e-03, 9.53658500e-03]),\n",
       "   'totliveTime_s': 1456.4647593199998}],\n",
       " [array([[[0.00219727, 0.0020752 , 0.00231934, ..., 0.00231934,\n",
       "           0.00244141, 0.00195312]],\n",
       "  \n",
       "         [[0.00219727, 0.00256348, 0.00231934, ..., 0.00244141,\n",
       "           0.00219727, 0.0020752 ]],\n",
       "  \n",
       "         [[0.00219727, 0.00219727, 0.0020752 , ..., 0.00231934,\n",
       "           0.00219727, 0.00219727]],\n",
       "  \n",
       "         ...,\n",
       "  \n",
       "         [[0.00244141, 0.00256348, 0.00231934, ..., 0.00219727,\n",
       "           0.00219727, 0.00195312]],\n",
       "  \n",
       "         [[0.00183105, 0.00195312, 0.0020752 , ..., 0.00256348,\n",
       "           0.00231934, 0.00256348]],\n",
       "  \n",
       "         [[0.00219727, 0.00256348, 0.00195312, ..., 0.00244141,\n",
       "           0.00231934, 0.00231934]]]),\n",
       "  {'numEvents': 100000,\n",
       "   'numSamples': 350,\n",
       "   'chMap': array([1]),\n",
       "   'numChan': 1,\n",
       "   'liveTimes_s': array([1.54166667e-06, 1.35996667e-04, 4.27533500e-03, ...,\n",
       "          1.18120500e-03, 5.29083000e-03, 2.92601000e-03]),\n",
       "   'totliveTime_s': 357.11416809166667}],\n",
       " [array([[[0.00158691, 0.0020752 , 0.00219727, ..., 0.00219727,\n",
       "           0.00219727, 0.00256348]],\n",
       "  \n",
       "         [[0.00219727, 0.00256348, 0.00219727, ..., 0.0020752 ,\n",
       "           0.00231934, 0.00170898]],\n",
       "  \n",
       "         [[0.00219727, 0.00231934, 0.0020752 , ..., 0.00219727,\n",
       "           0.0020752 , 0.00231934]],\n",
       "  \n",
       "         ...,\n",
       "  \n",
       "         [[0.0020752 , 0.00219727, 0.00219727, ..., 0.00219727,\n",
       "           0.0020752 , 0.00219727]],\n",
       "  \n",
       "         [[0.00231934, 0.00256348, 0.0020752 , ..., 0.0020752 ,\n",
       "           0.00219727, 0.0020752 ]],\n",
       "  \n",
       "         [[0.00183105, 0.00231934, 0.00231934, ..., 0.00219727,\n",
       "           0.00219727, 0.00231934]]]),\n",
       "  {'numEvents': 100000,\n",
       "   'numSamples': 350,\n",
       "   'chMap': array([1]),\n",
       "   'numChan': 1,\n",
       "   'liveTimes_s': array([1.54166667e-06, 1.89373333e-04, 1.21793000e-03, ...,\n",
       "          2.44338333e-04, 1.73385000e-04, 1.00172167e-03]),\n",
       "   'totliveTime_s': 96.61700175166668}],\n",
       " [array([[[0.0020752 , 0.00219727, 0.00244141, ..., 0.00244141,\n",
       "           0.00195312, 0.00231934]],\n",
       "  \n",
       "         [[0.0020752 , 0.00268555, 0.0020752 , ..., 0.0020752 ,\n",
       "           0.00244141, 0.00244141]],\n",
       "  \n",
       "         [[0.00231934, 0.00231934, 0.00219727, ..., 0.00219727,\n",
       "           0.00219727, 0.00244141]],\n",
       "  \n",
       "         ...,\n",
       "  \n",
       "         [[0.0020752 , 0.00268555, 0.00231934, ..., 0.00231934,\n",
       "           0.0020752 , 0.00231934]],\n",
       "  \n",
       "         [[0.00219727, 0.0020752 , 0.0020752 , ..., 0.00244141,\n",
       "           0.00231934, 0.0020752 ]],\n",
       "  \n",
       "         [[0.00219727, 0.00231934, 0.00219727, ..., 0.00219727,\n",
       "           0.00244141, 0.00219727]]]),\n",
       "  {'numEvents': 100000,\n",
       "   'numSamples': 350,\n",
       "   'chMap': array([1]),\n",
       "   'numChan': 1,\n",
       "   'liveTimes_s': array([1.54166667e-06, 1.11830000e-04, 6.01130000e-04, ...,\n",
       "          9.92050000e-05, 5.02780000e-04, 2.56046667e-04]),\n",
       "   'totliveTime_s': 38.606598995}]]"
      ]
     },
     "execution_count": 4,
     "metadata": {},
     "output_type": "execute_result"
    }
   ],
   "source": [
    "waveArrs = [au.ReadDDC10_BinWave(iRun) for iRun in fWaves]\n",
    "waveArrs"
   ]
  },
  {
   "cell_type": "code",
   "execution_count": 19,
   "metadata": {},
   "outputs": [],
   "source": [
    "def getChargeHist(wave,waveinfo,init=175,iend=230,nBins=10000,hrange=[-10,250]):\n",
    "    wave = au.Subtract_Baseline(wave)[0]\n",
    "    qArr = 1e3*integrate.simps(wave[...,init:iend],axis=2)\n",
    "    qArr *=au.sampleWidth_ns/au.resistance_ohm\n",
    "    return np.histogram(qArr,bins=nBins,range=hrange,weights=np.ones(shape=qArr.shape)/waveinfo['totliveTime_s'])"
   ]
  },
  {
   "cell_type": "code",
   "execution_count": 20,
   "metadata": {},
   "outputs": [
    {
     "data": {
      "text/plain": [
       "(100000, 1, 350)"
      ]
     },
     "execution_count": 20,
     "metadata": {},
     "output_type": "execute_result"
    }
   ],
   "source": [
    "waveArrs[0][0].shape"
   ]
  },
  {
   "cell_type": "code",
   "execution_count": 22,
   "metadata": {},
   "outputs": [],
   "source": [
    "qHist = None\n",
    "qHistEdges = None\n",
    "for iWave in waveArrs:\n",
    "    #print(iWave[0])\n",
    "    if not isinstance(qHist,np.ndarray):\n",
    "        qHist,qHistEdges = getChargeHist(iWave[0],iWave[1])\n",
    "    else:\n",
    "        qHist += getChargeHist(iWave[0],iWave[1])[0]"
   ]
  },
  {
   "cell_type": "code",
   "execution_count": 23,
   "metadata": {},
   "outputs": [
    {
     "data": {
      "text/plain": [
       "Text(0, 0.5, 'Rate [Hz]')"
      ]
     },
     "execution_count": 23,
     "metadata": {},
     "output_type": "execute_result"
    },
    {
     "data": {
      "image/png": "[encoded data removed]",
      "text/plain": [
       "<Figure size 1080x792 with 1 Axes>"
      ]
     },
     "metadata": {
      "needs_background": "light"
     },
     "output_type": "display_data"
    }
   ],
   "source": [
    "plt.plot((qHistEdges[1:]+qHistEdges[:-1])/2,qHist)\n",
    "#plt.yscale('log')\n",
    "plt.xlim(-2,10)\n",
    "plt.xlabel('Q [pC]')\n",
    "plt.ylabel('Rate [Hz]')"
   ]
  },
  {
   "cell_type": "code",
   "execution_count": 27,
   "metadata": {},
   "outputs": [
    {
     "data": {
      "text/plain": [
       "424"
      ]
     },
     "execution_count": 27,
     "metadata": {},
     "output_type": "execute_result"
    }
   ],
   "source": [
    "#1pC bin\n",
    "bin1pc = np.argmax(qHistEdges>1)\n",
    "bin10pc = np.argmax(qHistEdges>10)\n",
    "bin1pc"
   ]
  },
  {
   "cell_type": "code",
   "execution_count": 29,
   "metadata": {},
   "outputs": [
    {
     "name": "stdout",
     "output_type": "stream",
     "text": [
      "Integrated Rate > 1pC = 2361.820392288264 Hz\n"
     ]
    }
   ],
   "source": [
    "print('Integrated Rate > 1pC = '+str(np.sum(qHist[bin1pc:]))+' Hz')"
   ]
  },
  {
   "cell_type": "code",
   "execution_count": null,
   "metadata": {},
   "outputs": [],
   "source": [
    "from scipy.optimize import curve_fit\n"
   ]
  }
 ],
 "metadata": {
  "kernelspec": {
   "display_name": "Python 3",
   "language": "python",
   "name": "python3"
  },
  "language_info": {
   "codemirror_mode": {
    "name": "ipython",
    "version": 3
   },
   "file_extension": ".py",
   "mimetype": "text/x-python",
   "name": "python",
   "nbconvert_exporter": "python",
   "pygments_lexer": "ipython3",
   "version": "3.6.9"
  }
 },
 "nbformat": 4,
 "nbformat_minor": 4
}
