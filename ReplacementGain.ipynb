{
 "cells": [
  {
   "cell_type": "code",
   "execution_count": 1,
   "metadata": {},
   "outputs": [],
   "source": [
    "import numpy as np\n",
    "import uproot\n",
    "import matplotlib.pyplot as plt\n",
    "from scipy import integrate\n",
    "import AnaUtils as au\n",
    "import Triggered as tr\n",
    "import glob\n",
    "import os"
   ]
  },
  {
   "cell_type": "code",
   "execution_count": 2,
   "metadata": {
    "scrolled": true
   },
   "outputs": [
    {
     "name": "stdout",
     "output_type": "stream",
     "text": [
      "[1575. 1600. 1700. 1725.] ['/data/share/ReplacementPMTs/SA5446/Gain/1575V_200825_100_samples_30000_events', '/data/share/ReplacementPMTs/SA5446/Gain/1600V_200825_100_samples_30000_events', '/data/share/ReplacementPMTs/SA5446/Gain/1700V_200825_100_samples_30000_events', '/data/share/ReplacementPMTs/SA5446/Gain/1725V_200825_100_samples_30000_events'] 4\n"
     ]
    }
   ],
   "source": [
    "pmt = \"SA5446\"\n",
    "wdir = '/data/share/ReplacementPMTs'\n",
    "fWaves = [os.path.splitext(iF)[0] for iF in glob.glob('{}/{}/Gain/*.bin'.format(wdir,pmt))]\n",
    "fWaves.sort() \n",
    "Gains = np.array([float(iF.split('/')[-1].split('V')[0]) for iF in fWaves])\n",
    "nGains = len(Gains)\n",
    "print(Gains,fWaves,nGains)"
   ]
  },
  {
   "cell_type": "code",
   "execution_count": 4,
   "metadata": {
    "scrolled": true
   },
   "outputs": [
    {
     "name": "stdout",
     "output_type": "stream",
     "text": [
      "[-1.01841298e-01  1.80183938e+02  2.83176111e-01 -1.61583316e-01\n",
      "  2.61055989e+01 -6.19121488e-01]\n",
      "[-3.71250065e-02  8.50647610e+04  4.61043142e-02  1.93029990e-03\n",
      "  4.37021096e+03  3.75829947e-01]\n",
      "[-5.04899322e-02  1.68632001e+02  2.61569083e-01 -1.71815906e-01\n",
      "  3.82591885e+01 -5.72268867e-01]\n",
      "[-5.29988506e-02  1.77406455e+02  2.73601475e-01 -2.30721083e-01\n",
      "  2.66979372e+01  6.57423454e-01]\n"
     ]
    },
    {
     "data": {
      "text/plain": [
       "(array([1575., 1600., 1700., 1725.]),\n",
       " array([-0.1008509 ,  0.00120478, -0.10723749, -0.14400267]),\n",
       " array([0.02033673, 0.00209055, 0.01397499, 0.01572598]))"
      ]
     },
     "execution_count": 4,
     "metadata": {},
     "output_type": "execute_result"
    },
    {
     "data": {
      "image/png": "[encoded data removed]",
      "text/plain": [
       "<Figure size 1080x792 with 1 Axes>"
      ]
     },
     "metadata": {
      "needs_background": "light"
     },
     "output_type": "display_data"
    }
   ],
   "source": [
    "QHists = [tr.extRun(iG,30,5,6,qbins=100,qW=0.1,plot=False) for iG in fWaves]\n",
    "QSPE = np.array([0.]*nGains)\n",
    "QErr = np.array([0.]*nGains)\n",
    "for iq in range(nGains):\n",
    "    #plt.plot(QHists[iq][1],QHists[iq][2],marker='x',label=Gains[iq])\n",
    "    args = QHists[iq][3]\n",
    "    lst = 'solid'\n",
    "    try:\n",
    "        GFit,GErr = tr.fitQ(QHists[iq],[0,10,0.5,2,1,1])#,3.2,0.1,1])\n",
    "        QSPE[iq] = GFit[3]\n",
    "        print(GFit)\n",
    "        QErr[iq] = np.sqrt(np.diag(GErr))[3]\n",
    "    except RuntimeError as e:\n",
    "        print(\"Failed to fit {}V Run: {}\".format(Gains[iq],e))\n",
    "        lst = 'dashed'\n",
    "        QSPE[iq] = np.nan\n",
    "        QErr[iq] = np.nan\n",
    "        #plt.plot(QHists[iq][1],QHists[iq][0],marker='x',label=Gains[iq])\n",
    "    plt.plot(QHists[iq][1][args],QHists[iq][0][args],marker='+',label=Gains[iq],linestyle=lst)\n",
    "#plt.yscale('log')\n",
    "plt.xlim(-2,10)\n",
    "plt.legend()\n",
    "plt.xlabel('Q [pC]')\n",
    "plt.ylabel('dRate/dQ [Hz/pC]')\n",
    "plt.savefig(\"{}/figs/{}_GainSPEs.png\".format(wdir,pmt))\n",
    "\n",
    "Gains,QSPE/1.6022,QErr"
   ]
  },
  {
   "cell_type": "code",
   "execution_count": 4,
   "metadata": {
    "scrolled": true
   },
   "outputs": [
    {
     "name": "stderr",
     "output_type": "stream",
     "text": [
      "/home/lzer/miniconda3/envs/DDC10Ana/lib/python3.6/site-packages/ipykernel_launcher.py:9: RuntimeWarning: invalid value encountered in log\n",
      "  if __name__ == '__main__':\n"
     ]
    },
    {
     "ename": "ValueError",
     "evalue": "array must not contain infs or NaNs",
     "output_type": "error",
     "traceback": [
      "\u001b[0;31m---------------------------------------------------------------------------\u001b[0m",
      "\u001b[0;31mValueError\u001b[0m                                Traceback (most recent call last)",
      "\u001b[0;32m<ipython-input-4-d8e4356f64af>\u001b[0m in \u001b[0;36m<module>\u001b[0;34m\u001b[0m\n\u001b[1;32m      7\u001b[0m \u001b[0mqe\u001b[0m \u001b[0;34m=\u001b[0m \u001b[0;36m1.6022e-7\u001b[0m\u001b[0;34m\u001b[0m\u001b[0;34m\u001b[0m\u001b[0m\n\u001b[1;32m      8\u001b[0m \u001b[0;32mfrom\u001b[0m \u001b[0mscipy\u001b[0m\u001b[0;34m.\u001b[0m\u001b[0moptimize\u001b[0m \u001b[0;32mimport\u001b[0m \u001b[0mcurve_fit\u001b[0m\u001b[0;34m\u001b[0m\u001b[0;34m\u001b[0m\u001b[0m\n\u001b[0;32m----> 9\u001b[0;31m \u001b[0mfitQ\u001b[0m\u001b[0;34m,\u001b[0m\u001b[0mfitErr\u001b[0m \u001b[0;34m=\u001b[0m \u001b[0mcurve_fit\u001b[0m\u001b[0;34m(\u001b[0m\u001b[0mfit_gain_line\u001b[0m\u001b[0;34m,\u001b[0m\u001b[0mGains\u001b[0m\u001b[0;34m,\u001b[0m\u001b[0mnp\u001b[0m\u001b[0;34m.\u001b[0m\u001b[0mlog\u001b[0m\u001b[0;34m(\u001b[0m\u001b[0mQSPE\u001b[0m\u001b[0;34m/\u001b[0m\u001b[0mqe\u001b[0m\u001b[0;34m)\u001b[0m\u001b[0;34m,\u001b[0m\u001b[0mp0\u001b[0m\u001b[0;34m=\u001b[0m\u001b[0;34m[\u001b[0m\u001b[0;36m1\u001b[0m\u001b[0;34m,\u001b[0m\u001b[0;36m1e3\u001b[0m\u001b[0;34m]\u001b[0m\u001b[0;34m,\u001b[0m\u001b[0msigma\u001b[0m\u001b[0;34m=\u001b[0m\u001b[0mQErr\u001b[0m\u001b[0;34m/\u001b[0m\u001b[0mQSPE\u001b[0m\u001b[0;34m,\u001b[0m\u001b[0mabsolute_sigma\u001b[0m\u001b[0;34m=\u001b[0m\u001b[0;32mTrue\u001b[0m\u001b[0;34m)\u001b[0m\u001b[0;34m\u001b[0m\u001b[0;34m\u001b[0m\u001b[0m\n\u001b[0m\u001b[1;32m     10\u001b[0m \u001b[0mfitErr\u001b[0m \u001b[0;34m=\u001b[0m \u001b[0mnp\u001b[0m\u001b[0;34m.\u001b[0m\u001b[0msqrt\u001b[0m\u001b[0;34m(\u001b[0m\u001b[0mnp\u001b[0m\u001b[0;34m.\u001b[0m\u001b[0mdiag\u001b[0m\u001b[0;34m(\u001b[0m\u001b[0mfitErr\u001b[0m\u001b[0;34m)\u001b[0m\u001b[0;34m)\u001b[0m\u001b[0;34m\u001b[0m\u001b[0;34m\u001b[0m\u001b[0m\n\u001b[1;32m     11\u001b[0m \u001b[0mprint\u001b[0m\u001b[0;34m(\u001b[0m\u001b[0;34m(\u001b[0m\u001b[0mfitQ\u001b[0m\u001b[0;34m,\u001b[0m\u001b[0mfitErr\u001b[0m\u001b[0;34m,\u001b[0m\u001b[0;34m(\u001b[0m\u001b[0mnp\u001b[0m\u001b[0;34m.\u001b[0m\u001b[0mlog\u001b[0m\u001b[0;34m(\u001b[0m\u001b[0;36m1e7\u001b[0m\u001b[0;34m)\u001b[0m\u001b[0;34m-\u001b[0m\u001b[0mfitQ\u001b[0m\u001b[0;34m[\u001b[0m\u001b[0;36m0\u001b[0m\u001b[0;34m]\u001b[0m\u001b[0;34m)\u001b[0m\u001b[0;34m/\u001b[0m\u001b[0mfitQ\u001b[0m\u001b[0;34m[\u001b[0m\u001b[0;36m1\u001b[0m\u001b[0;34m]\u001b[0m\u001b[0;34m)\u001b[0m\u001b[0;34m)\u001b[0m\u001b[0;34m\u001b[0m\u001b[0;34m\u001b[0m\u001b[0m\n",
      "\u001b[0;32m~/miniconda3/envs/DDC10Ana/lib/python3.6/site-packages/scipy/optimize/minpack.py\u001b[0m in \u001b[0;36mcurve_fit\u001b[0;34m(f, xdata, ydata, p0, sigma, absolute_sigma, check_finite, bounds, method, jac, **kwargs)\u001b[0m\n\u001b[1;32m    711\u001b[0m     \u001b[0;31m# NaNs can not be handled\u001b[0m\u001b[0;34m\u001b[0m\u001b[0;34m\u001b[0m\u001b[0;34m\u001b[0m\u001b[0m\n\u001b[1;32m    712\u001b[0m     \u001b[0;32mif\u001b[0m \u001b[0mcheck_finite\u001b[0m\u001b[0;34m:\u001b[0m\u001b[0;34m\u001b[0m\u001b[0;34m\u001b[0m\u001b[0m\n\u001b[0;32m--> 713\u001b[0;31m         \u001b[0mydata\u001b[0m \u001b[0;34m=\u001b[0m \u001b[0mnp\u001b[0m\u001b[0;34m.\u001b[0m\u001b[0masarray_chkfinite\u001b[0m\u001b[0;34m(\u001b[0m\u001b[0mydata\u001b[0m\u001b[0;34m,\u001b[0m \u001b[0mfloat\u001b[0m\u001b[0;34m)\u001b[0m\u001b[0;34m\u001b[0m\u001b[0;34m\u001b[0m\u001b[0m\n\u001b[0m\u001b[1;32m    714\u001b[0m     \u001b[0;32melse\u001b[0m\u001b[0;34m:\u001b[0m\u001b[0;34m\u001b[0m\u001b[0;34m\u001b[0m\u001b[0m\n\u001b[1;32m    715\u001b[0m         \u001b[0mydata\u001b[0m \u001b[0;34m=\u001b[0m \u001b[0mnp\u001b[0m\u001b[0;34m.\u001b[0m\u001b[0masarray\u001b[0m\u001b[0;34m(\u001b[0m\u001b[0mydata\u001b[0m\u001b[0;34m,\u001b[0m \u001b[0mfloat\u001b[0m\u001b[0;34m)\u001b[0m\u001b[0;34m\u001b[0m\u001b[0;34m\u001b[0m\u001b[0m\n",
      "\u001b[0;32m~/miniconda3/envs/DDC10Ana/lib/python3.6/site-packages/numpy/lib/function_base.py\u001b[0m in \u001b[0;36masarray_chkfinite\u001b[0;34m(a, dtype, order)\u001b[0m\n\u001b[1;32m    497\u001b[0m     \u001b[0;32mif\u001b[0m \u001b[0ma\u001b[0m\u001b[0;34m.\u001b[0m\u001b[0mdtype\u001b[0m\u001b[0;34m.\u001b[0m\u001b[0mchar\u001b[0m \u001b[0;32min\u001b[0m \u001b[0mtypecodes\u001b[0m\u001b[0;34m[\u001b[0m\u001b[0;34m'AllFloat'\u001b[0m\u001b[0;34m]\u001b[0m \u001b[0;32mand\u001b[0m \u001b[0;32mnot\u001b[0m \u001b[0mnp\u001b[0m\u001b[0;34m.\u001b[0m\u001b[0misfinite\u001b[0m\u001b[0;34m(\u001b[0m\u001b[0ma\u001b[0m\u001b[0;34m)\u001b[0m\u001b[0;34m.\u001b[0m\u001b[0mall\u001b[0m\u001b[0;34m(\u001b[0m\u001b[0;34m)\u001b[0m\u001b[0;34m:\u001b[0m\u001b[0;34m\u001b[0m\u001b[0;34m\u001b[0m\u001b[0m\n\u001b[1;32m    498\u001b[0m         raise ValueError(\n\u001b[0;32m--> 499\u001b[0;31m             \"array must not contain infs or NaNs\")\n\u001b[0m\u001b[1;32m    500\u001b[0m     \u001b[0;32mreturn\u001b[0m \u001b[0ma\u001b[0m\u001b[0;34m\u001b[0m\u001b[0;34m\u001b[0m\u001b[0m\n\u001b[1;32m    501\u001b[0m \u001b[0;34m\u001b[0m\u001b[0m\n",
      "\u001b[0;31mValueError\u001b[0m: array must not contain infs or NaNs"
     ]
    }
   ],
   "source": [
    "def fit_gain_curve(v, v0, gamma):\n",
    "    q = ( v / v0 ) ** gamma\n",
    "    return q\n",
    "def fit_gain_line(v,v0,gamma):\n",
    "    q = gamma*v + v0\n",
    "    return q\n",
    "qe = 1.6022e-7\n",
    "from scipy.optimize import curve_fit\n",
    "fitQ,fitErr = curve_fit(fit_gain_line,Gains,np.log(QSPE/qe),p0=[1,1e3],sigma=QErr/QSPE,absolute_sigma=True)\n",
    "fitErr = np.sqrt(np.diag(fitErr))\n",
    "print((fitQ,fitErr,(np.log(1e7)-fitQ[0])/fitQ[1]))\n",
    "\n",
    "\"\"\"\n",
    "from scipy.stats import linregress\n",
    "slope, intercept, r_value, p_value, std_err = linregress(Gains,np.log(QSPE/qe))\n",
    "print(slope, intercept, std_err,(np.log(1e7)-intercept)/slope)\n",
    "\"\"\"\n"
   ]
  },
  {
   "cell_type": "code",
   "execution_count": null,
   "metadata": {},
   "outputs": [],
   "source": [
    "points = np.exp(fitQ[1] * np.array(Gains) + fitQ[0])\n",
    "pointerr = np.sqrt(np.square(fitErr[1]/fitQ[1])+np.square(fitErr[0]/fitQ[0]))*points\n",
    "plt.errorbar(Gains,points,yerr=pointerr,label='Fit')\n",
    "plt.errorbar(Gains,QSPE/qe,label='data',yerr = QErr/qe)\n",
    "plt.plot()\n",
    "#plt.yscale('log')\n",
    "#plt.xlim(-2,10)\n",
    "plt.xlabel('Bias [V]')\n",
    "plt.ylabel('Gain')\n",
    "plt.legend()\n",
    "plt.savefig(\"{}/figs/{}_GainCurve.png\".format(wdir,pmt))\n"
   ]
  },
  {
   "cell_type": "markdown",
   "metadata": {},
   "source": [
    "## "
   ]
  },
  {
   "cell_type": "code",
   "execution_count": null,
   "metadata": {},
   "outputs": [],
   "source": []
  },
  {
   "cell_type": "code",
   "execution_count": null,
   "metadata": {},
   "outputs": [],
   "source": []
  }
 ],
 "metadata": {
  "kernelspec": {
   "display_name": "Python 3",
   "language": "python",
   "name": "python3"
  },
  "language_info": {
   "codemirror_mode": {
    "name": "ipython",
    "version": 3
   },
   "file_extension": ".py",
   "mimetype": "text/x-python",
   "name": "python",
   "nbconvert_exporter": "python",
   "pygments_lexer": "ipython3",
   "version": "3.6.9"
  }
 },
 "nbformat": 4,
 "nbformat_minor": 4
}
